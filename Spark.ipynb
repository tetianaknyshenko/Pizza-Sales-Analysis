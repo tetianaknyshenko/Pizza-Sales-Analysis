{
 "cells": [
  {
   "cell_type": "code",
   "execution_count": 28,
   "metadata": {},
   "outputs": [
    {
     "name": "stdout",
     "output_type": "stream",
     "text": [
      "root\n",
      " |-- order_id: integer (nullable = true)\n",
      " |-- date: date (nullable = true)\n",
      " |-- time: timestamp (nullable = true)\n",
      "\n",
      "root\n",
      " |-- order_details_id: integer (nullable = true)\n",
      " |-- order_id: integer (nullable = true)\n",
      " |-- pizza_id: string (nullable = true)\n",
      " |-- quantity: integer (nullable = true)\n",
      "\n",
      "root\n",
      " |-- pizza_id: string (nullable = true)\n",
      " |-- pizza_type_id: string (nullable = true)\n",
      " |-- size: string (nullable = true)\n",
      " |-- price: double (nullable = true)\n",
      "\n",
      "root\n",
      " |-- pizza_type_id: string (nullable = true)\n",
      " |-- name: string (nullable = true)\n",
      " |-- category: string (nullable = true)\n",
      " |-- ingredients: string (nullable = true)\n",
      "\n"
     ]
    }
   ],
   "source": [
    "from pyspark.sql import SparkSession\n",
    "from pyspark.sql.functions import col, hour, when\n",
    "from pyspark.ml.feature import VectorAssembler\n",
    "from xgboost.spark import SparkXGBRegressor\n",
    "import seaborn as sns\n",
    "import matplotlib.pyplot as plt\n",
    "import pandas as pd\n",
    "import numpy as np\n",
    "\n",
    "# 🚀 Start Spark session\n",
    "spark = SparkSession.builder.appName(\"PizzaPriceXGBoost\").getOrCreate()\n",
    "\n",
    "# 📂 Load CSV files\n",
    "orders = spark.read.csv(\"Sales Data/orders.csv\", header=True, inferSchema=True)\n",
    "order_details = spark.read.csv(\"Sales Data/order_details.csv\", header=True, inferSchema=True)\n",
    "pizzas = spark.read.csv(\"Sales Data/pizzas.csv\", header=True, inferSchema=True)\n",
    "pizza_types = spark.read.csv(\"Sales Data/pizza_types.csv\", header=True, inferSchema=True)\n",
    "\n",
    "# 🛠 Check schema before joining\n",
    "orders.printSchema()\n",
    "order_details.printSchema()\n",
    "pizzas.printSchema()\n",
    "pizza_types.printSchema()\n",
    "\n",
    "# 🔗 Join tables\n",
    "df = orders.join(order_details, \"order_id\", \"inner\") \\\n",
    "           .join(pizzas, \"pizza_id\", \"inner\") \\\n",
    "           .join(pizza_types, \"pizza_type_id\", \"inner\") \\\n",
    "           .select(\"size\", \"category\", \"time\", \"quantity\", \"price\")\n",
    "\n",
    "# 🕒 Convert time column to timestamp and extract order hour\n",
    "df = df.withColumn(\"time\", col(\"time\").cast(\"timestamp\"))\n",
    "df = df.withColumn(\"order_hour\", hour(col(\"time\")))\n",
    "\n",
    "# 💰 Define revenue\n",
    "df = df.withColumn(\"revenue\", col(\"quantity\") * col(\"price\"))\n",
    "\n",
    "# 🔹 One-hot encoding for categorical variables\n",
    "df = df.withColumn(\"is_large\", when(col(\"size\") == \"L\", 1).otherwise(0)) \\\n",
    "       .withColumn(\"is_medium\", when(col(\"size\") == \"M\", 1).otherwise(0)) \\\n",
    "       .withColumn(\"is_small\", when(col(\"size\") == \"S\", 1).otherwise(0)) \\\n",
    "       .withColumn(\"is_veggie\", when(col(\"category\") == \"Vegetarian\", 1).otherwise(0)) \\\n",
    "       .withColumn(\"is_meat\", when(col(\"category\") == \"Meat\", 1).otherwise(0))\n"
   ]
  },
  {
   "cell_type": "code",
   "execution_count": 29,
   "metadata": {},
   "outputs": [
    {
     "data": {
      "text/plain": [
       "['size',\n",
       " 'category',\n",
       " 'time',\n",
       " 'quantity',\n",
       " 'price',\n",
       " 'order_hour',\n",
       " 'revenue',\n",
       " 'is_large',\n",
       " 'is_medium',\n",
       " 'is_small',\n",
       " 'is_veggie',\n",
       " 'is_meat']"
      ]
     },
     "execution_count": 29,
     "metadata": {},
     "output_type": "execute_result"
    }
   ],
   "source": [
    "df.columns"
   ]
  },
  {
   "cell_type": "code",
   "execution_count": 30,
   "metadata": {},
   "outputs": [],
   "source": [
    "\n",
    "# 🎯 Prepare features\n",
    "features = [\"order_hour\", \"quantity\", \"price\", \"is_large\", \"is_medium\", \"is_small\", \"is_veggie\", \"is_meat\"]\n",
    "assembler = VectorAssembler(inputCols=features, outputCol=\"features\")\n",
    "df = assembler.transform(df).select(\"features\", \"revenue\")\n",
    "\n",
    "# 🛠 Handle missing values\n",
    "#df = df.fillna({\"quantity\": 0, \"price\": 0, \"order_hour\": 0})\n",
    "\n",
    "# 🔥 Split data\n",
    "train_data, test_data = df.randomSplit([0.8, 0.2], seed=42)\n",
    "\n"
   ]
  },
  {
   "cell_type": "code",
   "execution_count": 31,
   "metadata": {},
   "outputs": [
    {
     "name": "stderr",
     "output_type": "stream",
     "text": [
      "2025-02-19 00:50:37,211 INFO XGBoost-PySpark: _fit Running xgboost-2.1.4 on 1 workers with\n",
      "\tbooster params: {'objective': 'reg:squarederror', 'device': 'cpu', 'max_depth': 6, 'eta': 0.1, 'nthread': 1}\n",
      "\ttrain_call_kwargs_params: {'verbose_eval': True, 'num_boost_round': 100}\n",
      "\tdmatrix_kwargs: {'nthread': 1, 'missing': nan}\n",
      "2025-02-19 00:50:39,059 INFO XGBoost-PySpark: _train_booster Training on CPUs 1]\n",
      "[00:50:40] Task 0 got rank 0\n",
      "2025-02-19 00:50:41,301 INFO XGBoost-PySpark: _fit Finished xgboost training!   \n",
      "2025-02-19 00:50:41,741 INFO XGBoost-PySpark: predict_udf Do the inference on the CPUs\n"
     ]
    },
    {
     "name": "stdout",
     "output_type": "stream",
     "text": [
      "+-------+----------------+\n",
      "|revenue|      prediction|\n",
      "+-------+----------------+\n",
      "|   25.5|25.4996280670166|\n",
      "|   25.5|25.4996280670166|\n",
      "|   25.5|25.4996280670166|\n",
      "|   25.5|25.4996280670166|\n",
      "|   25.5|25.4996280670166|\n",
      "|   25.5|25.4996280670166|\n",
      "|   25.5|25.4996280670166|\n",
      "|   25.5|25.4996280670166|\n",
      "|   25.5|25.4996280670166|\n",
      "|   25.5|25.4996280670166|\n",
      "+-------+----------------+\n",
      "only showing top 10 rows\n",
      "\n"
     ]
    },
    {
     "name": "stderr",
     "output_type": "stream",
     "text": [
      "[Stage 116:>                                                        (0 + 1) / 1]\r"
     ]
    },
    {
     "name": "stdout",
     "output_type": "stream",
     "text": [
      "🚀 RMSE: 0.00\n"
     ]
    },
    {
     "name": "stderr",
     "output_type": "stream",
     "text": [
      "2025-02-19 00:50:43,861 INFO XGBoost-PySpark: predict_udf Do the inference on the CPUs\n",
      "                                                                                \r"
     ]
    }
   ],
   "source": [
    "# 📈 Train XGBoost model\n",
    "xgb = SparkXGBRegressor(features_col=\"features\", label_col=\"revenue\", max_depth=6, eta=0.1, objective=\"reg:squarederror\")\n",
    "xgb_model = xgb.fit(train_data)\n",
    "\n",
    "# 🎯 Make predictions\n",
    "predictions = xgb_model.transform(test_data)\n",
    "predictions.select(\"revenue\", \"prediction\").show(10)\n",
    "\n",
    "# 📊 Evaluate model\n",
    "from pyspark.ml.evaluation import RegressionEvaluator\n",
    "evaluator = RegressionEvaluator(labelCol=\"revenue\", predictionCol=\"prediction\", metricName=\"rmse\")\n",
    "rmse = evaluator.evaluate(predictions)\n",
    "\n",
    "print(f\"🚀 RMSE: {rmse:.2f}\")\n",
    "\n",
    "# 🔍 Feature Importance\n",
    "feature_importance = xgb_model.get_booster().get_score(importance_type=\"weight\")\n",
    "\n",
    "# 🛠 Ensure correct data types\n",
    "if not isinstance(feature_importance, dict):\n",
    "    feature_importance = {}\n",
    "\n",
    "# 🔹 Map feature indices to names\n",
    "feature_names = assembler.getInputCols()\n",
    "feature_importance_df = pd.DataFrame({\n",
    "    \"Feature\": feature_names[:len(feature_importance)],\n",
    "    \"Importance\": list(feature_importance.values())\n",
    "})\n"
   ]
  },
  {
   "cell_type": "code",
   "execution_count": 32,
   "metadata": {},
   "outputs": [
    {
     "name": "stderr",
     "output_type": "stream",
     "text": [
      "/tmp/ipykernel_439648/2611332160.py:3: FutureWarning: \n",
      "\n",
      "Passing `palette` without assigning `hue` is deprecated and will be removed in v0.14.0. Assign the `y` variable to `hue` and set `legend=False` for the same effect.\n",
      "\n",
      "  sns.barplot(\n",
      "/home/tknyshenko/graice-installs/graice/.venv/lib/python3.11/site-packages/seaborn/_base.py:948: FutureWarning: When grouping with a length-1 list-like, you will need to pass a length-1 tuple to get_group in a future version of pandas. Pass `(name,)` instead of `name` to silence this warning.\n",
      "  data_subset = grouped_data.get_group(pd_key)\n",
      "/home/tknyshenko/graice-installs/graice/.venv/lib/python3.11/site-packages/seaborn/_base.py:948: FutureWarning: When grouping with a length-1 list-like, you will need to pass a length-1 tuple to get_group in a future version of pandas. Pass `(name,)` instead of `name` to silence this warning.\n",
      "  data_subset = grouped_data.get_group(pd_key)\n",
      "/home/tknyshenko/graice-installs/graice/.venv/lib/python3.11/site-packages/seaborn/_base.py:948: FutureWarning: When grouping with a length-1 list-like, you will need to pass a length-1 tuple to get_group in a future version of pandas. Pass `(name,)` instead of `name` to silence this warning.\n",
      "  data_subset = grouped_data.get_group(pd_key)\n",
      "/home/tknyshenko/graice-installs/graice/.venv/lib/python3.11/site-packages/seaborn/_base.py:948: FutureWarning: When grouping with a length-1 list-like, you will need to pass a length-1 tuple to get_group in a future version of pandas. Pass `(name,)` instead of `name` to silence this warning.\n",
      "  data_subset = grouped_data.get_group(pd_key)\n",
      "/home/tknyshenko/graice-installs/graice/.venv/lib/python3.11/site-packages/IPython/core/pylabtools.py:152: UserWarning: Glyph 128313 (\\N{SMALL BLUE DIAMOND}) missing from font(s) DejaVu Sans.\n",
      "  fig.canvas.print_figure(bytes_io, **kw)\n"
     ]
    },
    {
     "data": {
      "image/png": "[encoded data removed]",
      "text/plain": [
       "<Figure size 1000x500 with 1 Axes>"
      ]
     },
     "metadata": {},
     "output_type": "display_data"
    }
   ],
   "source": [
    "# 📊 Plot feature importance\n",
    "plt.figure(figsize=(10, 5))\n",
    "sns.barplot(\n",
    "    x=\"Importance\",\n",
    "    y=\"Feature\",\n",
    "    data=feature_importance_df.sort_values(by=\"Importance\", ascending=False),\n",
    "    palette=\"viridis\"\n",
    ")\n",
    "plt.title(\"🔹 Feature Importance in XGBoost Model\")\n",
    "plt.xlabel(\"Importance\")\n",
    "plt.ylabel(\"Feature\")\n",
    "plt.show()"
   ]
  }
 ],
 "metadata": {
  "kernelspec": {
   "display_name": ".venv",
   "language": "python",
   "name": "python3"
  },
  "language_info": {
   "codemirror_mode": {
    "name": "ipython",
    "version": 3
   },
   "file_extension": ".py",
   "mimetype": "text/x-python",
   "name": "python",
   "nbconvert_exporter": "python",
   "pygments_lexer": "ipython3",
   "version": "3.11.9"
  }
 },
 "nbformat": 4,
 "nbformat_minor": 2
}
